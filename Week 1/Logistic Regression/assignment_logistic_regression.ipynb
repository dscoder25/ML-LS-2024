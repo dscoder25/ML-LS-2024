{
  "cells": [
    {
      "cell_type": "markdown",
      "metadata": {
        "id": "wNEUsAHHCGk2"
      },
      "source": [
        "##ASSIGNMENT\n",
        "#Dataset\n",
        "Assume you are a scientist who is trying to make a propellent and is trying many tests to make an efficient propellent .\n",
        "<br>\n",
        "You have performed two tests.\n",
        "<br>\n",
        "From the two tests you would like whether this propellent works efficiently or not.\n",
        "Build your own logistic regression model to decide .\n",
        "<br>\n",
        "Text with \"DO NOT EDIT THIS CODE\" needs to be only run do not edit it\n"
      ]
    },
    {
      "cell_type": "code",
      "execution_count": 1,
      "metadata": {
        "id": "xJm_XXJo4RDg"
      },
      "outputs": [],
      "source": [
        "#import libraries\n",
        "import numpy as np\n",
        "import matplotlib.pyplot as plt\n",
        "import math\n",
        "#write your code.\n"
      ]
    },
    {
      "cell_type": "code",
      "execution_count": 2,
      "metadata": {
        "id": "YtL0jW6m4e1A"
      },
      "outputs": [],
      "source": [
        "#load data\n",
        "data=np.loadtxt(\"data.txt\", delimiter=',')\n",
        "X=data[:,:2]\n",
        "y=data[:,2]\n",
        "X_train=X\n",
        "y_train=y"
      ]
    },
    {
      "cell_type": "code",
      "execution_count": 3,
      "metadata": {
        "id": "Bk2qYHyk4mNm"
      },
      "outputs": [],
      "source": [
        "#plot data to visualise\n",
        "def plot_data(X,y,positive_label=\"y=1\", negative_label=\"y=0\"):\n",
        "#positive_label and negative_label refers to classes of y as y can be 0 or 1\n",
        "    positive = (y == 1)\n",
        "    negative = (y == 0)\n",
        "    plt.plot(X[positive, 0], X[positive, 1], 'k+', label=positive_label)\n",
        "    plt.plot(X[negative, 0], X[negative, 1], 'yo', label=negative_label)\n",
        "#While plotting graph the label parameter will be either positive_label or negative_label so plot both the labels for"
      ]
    },
    {
      "cell_type": "code",
      "execution_count": 4,
      "metadata": {
        "id": "RzsMdrwv58tQ"
      },
      "outputs": [
        {
          "data": {
            "image/png": "[encoded data removed]",
            "text/plain": [
              "<Figure size 640x480 with 1 Axes>"
            ]
          },
          "metadata": {},
          "output_type": "display_data"
        }
      ],
      "source": [
        "#test\n",
        "plot_data(X_train, y_train[:], positive_label=\"Accepted\", negative_label=\"Rejected\")\n",
        "\n",
        "\n",
        "plt.xlabel('Test 2')\n",
        "plt.ylabel('Test 1')\n",
        "plt.legend(loc=\"upper right\")\n",
        "plt.show()"
      ]
    },
    {
      "cell_type": "code",
      "execution_count": 5,
      "metadata": {
        "id": "KhRBdaFi6nKo"
      },
      "outputs": [],
      "source": [
        "#feature mapping\n",
        "def map_feature(X1,X2):\n",
        "  X1=np.atleast_1d(X1)\n",
        "  X2=np.atleast_1d(X2)\n",
        "  degree=6\n",
        "  out=[]\n",
        "  for i in range(1,degree+1):\n",
        "    for j in range(i+1):\n",
        "      out.append((X1**(i-j) * (X2**j)))\n",
        "  return np.stack(out, axis=1)"
      ]
    },
    {
      "cell_type": "code",
      "execution_count": 6,
      "metadata": {
        "id": "PNS4kJfq6_m8"
      },
      "outputs": [
        {
          "name": "stdout",
          "output_type": "stream",
          "text": [
            "Original shape of data: (118, 2)\n",
            "Shape after feature mapping: (118, 27)\n"
          ]
        }
      ],
      "source": [
        "print(\"Original shape of data:\", X_train.shape)\n",
        "\n",
        "mapped_X =  map_feature(X_train[:, 0], X_train[:, 1])\n",
        "print(\"Shape after feature mapping:\", mapped_X.shape)"
      ]
    },
    {
      "cell_type": "code",
      "execution_count": 7,
      "metadata": {
        "cellView": "form",
        "id": "BqlxZOXoHh4z"
      },
      "outputs": [],
      "source": [
        "# @title DO NOT EDIT THIS CODE\n",
        "def sigmoid_test(target):\n",
        "    assert np.isclose(target(3.0), 0.9525741268224334), \"Failed for scalar input\"\n",
        "    assert np.allclose(target(np.array([2.5, 0])), [0.92414182, 0.5]), \"Failed for 1D array\"\n",
        "    assert np.allclose(target(np.array([[2.5, -2.5], [0, 1]])),\n",
        "                       [[0.92414182, 0.07585818], [0.5, 0.73105858]]), \"Failed for 2D array\"\n",
        "    print('\\033[92mTests passed!')"
      ]
    },
    {
      "cell_type": "code",
      "execution_count": 8,
      "metadata": {
        "id": "wdgE-ay07C0P"
      },
      "outputs": [],
      "source": [
        "#sigmoid function\n",
        "def sigmoid(z):\n",
        "#write your code\n",
        "    sig = 1/(1 + np.exp(-1*z))\n",
        "\n",
        "    return sig"
      ]
    },
    {
      "cell_type": "code",
      "execution_count": 9,
      "metadata": {
        "id": "9XOlXXyxHnmB"
      },
      "outputs": [
        {
          "name": "stdout",
          "output_type": "stream",
          "text": [
            "\u001b[92mTests passed!\n"
          ]
        }
      ],
      "source": [
        "sigmoid_test(sigmoid)\n"
      ]
    },
    {
      "cell_type": "code",
      "execution_count": 10,
      "metadata": {
        "cellView": "form",
        "id": "QLqfyxPrH-v-"
      },
      "outputs": [],
      "source": [
        "# @title DO NOT EDIT THIS CODE\n",
        "def compute_cost_test(target):\n",
        "    X = np.array([[0, 0, 0, 0]]).T\n",
        "    y = np.array([0, 0, 0, 0])\n",
        "    w = np.array([0])\n",
        "    b = 1\n",
        "    result = target(X, y, w, b)\n",
        "    if math.isinf(result):\n",
        "        raise ValueError(\"Did you get the sigmoid of z_wb?\")\n",
        "\n",
        "    np.random.seed(17)\n",
        "    X = np.random.randn(5, 2)\n",
        "    y = np.array([1, 0, 0, 1, 1])\n",
        "    w = np.random.randn(2)\n",
        "    b = 0\n",
        "    result = target(X, y, w, b)\n",
        "    assert np.isclose(result, 2.15510667), f\"Wrong output. Expected: {2.15510667} got: {result}\"\n",
        "\n",
        "    X = np.random.randn(4, 3)\n",
        "    y = np.array([1, 1, 0, 0])\n",
        "    w = np.random.randn(3)\n",
        "    b = 0\n",
        "\n",
        "    result = target(X, y, w, b)\n",
        "    assert np.isclose(result, 0.80709376), f\"Wrong output. Expected: {0.80709376} got: {result}\"\n",
        "\n",
        "    X = np.random.randn(4, 3)\n",
        "    y = np.array([1, 0,1, 0])\n",
        "    w = np.random.randn(3)\n",
        "    b = 3\n",
        "    result = target(X, y, w, b)\n",
        "    assert np.isclose(result, 0.4529660647), f\"Wrong output. Expected: {0.4529660647} got: {result}. Did you inizialized z_wb = b?\"\n",
        "\n",
        "    print('\\033[92mTests passed!')"
      ]
    },
    {
      "cell_type": "code",
      "execution_count": 11,
      "metadata": {
        "id": "PRIqcpJ17MzH"
      },
      "outputs": [],
      "source": [
        "#computing cost\n",
        "def compute_cost(X,y,w,b,lambda_=1):\n",
        "#write your code\n",
        "  m = X.shape[0]\n",
        "  n = X.shape[1]\n",
        "  total_cost = 0\n",
        "  for i in range(m):\n",
        "    z = np.dot(w,X[i]) + b\n",
        "    f = sigmoid(z)\n",
        "    loss = (-y[i]*math.log(f)) - ((1-y[i])*math.log(1-f))\n",
        "    total_cost += loss\n",
        "  \n",
        "  total_cost /= m\n",
        "  return total_cost"
      ]
    },
    {
      "cell_type": "code",
      "execution_count": 12,
      "metadata": {
        "id": "MPOvLzL5H5-5"
      },
      "outputs": [
        {
          "name": "stdout",
          "output_type": "stream",
          "text": [
            "Cost at test w,b: 11.777\n",
            "\u001b[92mTests passed!\n"
          ]
        }
      ],
      "source": [
        "test_w = np.array([0.2, 0.2])\n",
        "test_b = -24.\n",
        "cost = compute_cost(X_train, y_train, test_w, test_b)\n",
        "\n",
        "print('Cost at test w,b: {:.3f}'.format(cost))\n",
        "\n",
        "\n",
        "# test\n",
        "compute_cost_test(compute_cost)"
      ]
    },
    {
      "cell_type": "code",
      "execution_count": 13,
      "metadata": {
        "id": "ULkWUBkO7ffh"
      },
      "outputs": [],
      "source": [
        "#compute regularised cost\n",
        "def compute_cost_reg(X, y, w, b, lambda_ = 1):\n",
        "#write your code\n",
        "  total_cost = 0\n",
        "  m = X.shape[0]\n",
        "  for i in w:\n",
        "    total_cost += i**2\n",
        "  \n",
        "  total_cost = total_cost *(lambda_/(2*m))\n",
        "\n",
        "  total_cost += compute_cost(X,y,w,b,lambda_)\n",
        "\n",
        "  return total_cost"
      ]
    },
    {
      "cell_type": "code",
      "execution_count": 14,
      "metadata": {
        "cellView": "form",
        "id": "OhFbPakDGKQj"
      },
      "outputs": [],
      "source": [
        "# @title DO NOT EDIT THIS CODE\n",
        "def compute_cost_reg_test(target):\n",
        "    np.random.seed(1)\n",
        "    w = np.random.randn(3)\n",
        "    b = 0.4\n",
        "    X = np.random.randn(6, 3)\n",
        "    y = np.array([0, 1, 1, 0, 1, 1])\n",
        "    lambda_ = 0.1\n",
        "    expected_output = target(X, y, w, b, lambda_)\n",
        "\n",
        "    assert np.isclose(expected_output, 0.5469746792761936), f\"Wrong output. Expected: {0.5469746792761936} got:{expected_output}\"\n",
        "\n",
        "    w = np.random.randn(5)\n",
        "    b = -0.6\n",
        "    X = np.random.randn(8, 5)\n",
        "    y = np.array([1, 0, 1, 0, 0, 1, 0, 1])\n",
        "    lambda_ = 0.01\n",
        "    output = target(X, y, w, b, lambda_)\n",
        "    assert np.isclose(output, 1.2608591964119995), f\"Wrong output. Expected: {1.2608591964119995} got:{output}\"\n",
        "\n",
        "    w = np.array([2, 2, 2, 2, 2])\n",
        "    b = 0\n",
        "    X = np.zeros((8, 5))\n",
        "    y = np.array([0.5] * 8)\n",
        "    lambda_ = 3\n",
        "    output = target(X, y, w, b, lambda_)\n",
        "    expected = -np.log(0.5) + 3. / (2. * 8.) * 20.\n",
        "    assert np.isclose(output, expected), f\"Wrong output. Expected: {expected} got:{output}\"\n",
        "\n",
        "    print('\\033[92mAll tests passed!')"
      ]
    },
    {
      "cell_type": "code",
      "execution_count": 15,
      "metadata": {
        "id": "jO14e7OD7syR"
      },
      "outputs": [
        {
          "name": "stdout",
          "output_type": "stream",
          "text": [
            "Regularised cost : 0.6618252552483948\n",
            "\u001b[92mAll tests passed!\n"
          ]
        }
      ],
      "source": [
        "X_mapped = map_feature(X_train[:, 0], X_train[:, 1])\n",
        "np.random.seed(1)\n",
        "initial_w = np.random.rand(X_mapped.shape[1]) - 0.5\n",
        "initial_b = 0.5\n",
        "lambda_ = 0.5\n",
        "cost = compute_cost_reg(X_mapped, y_train, initial_w, initial_b, lambda_)\n",
        "\n",
        "print(\"Regularised cost :\", cost)\n",
        "\n",
        "#test\n",
        "compute_cost_reg_test(compute_cost_reg)"
      ]
    },
    {
      "cell_type": "code",
      "execution_count": 16,
      "metadata": {
        "cellView": "form",
        "id": "plQBUPM2IRei"
      },
      "outputs": [],
      "source": [
        "# @title DO NOT EDIT THIS CODE\n",
        "def compute_gradient_test(target):\n",
        "    np.random.seed(1)\n",
        "    X = np.random.randn(7, 3)\n",
        "    y = np.array([1, 0, 1, 0, 1, 1, 0])\n",
        "    test_w = np.array([1, 0.5, -0.35])\n",
        "    test_b = 1.7\n",
        "    dj_db, dj_dw  = target(X, y, test_w, test_b)\n",
        "\n",
        "    assert np.isclose(dj_db, 0.28936094), f\"Wrong value for dj_db. Expected: {0.28936094} got: {dj_db}\"\n",
        "    assert dj_dw.shape == test_w.shape, f\"Wrong shape for dj_dw. Expected: {test_w.shape} got: {dj_dw.shape}\"\n",
        "    assert np.allclose(dj_dw, [-0.11999166, 0.41498775, -0.71968405]), f\"Wrong values for dj_dw. Got: {dj_dw}\"\n",
        "\n",
        "    print('\\033[92mTests passed!')"
      ]
    },
    {
      "cell_type": "code",
      "execution_count": 17,
      "metadata": {
        "id": "v27SzhYX8-ug"
      },
      "outputs": [],
      "source": [
        "#compute gradient\n",
        "def compute_gradient(X, y, w, b, lambda_=None):\n",
        "#write your code\n",
        " m = X.shape[0]\n",
        " n = X.shape[1]\n",
        "\n",
        " dj_dw = np.zeros(n)\n",
        " dj_db = 0\n",
        " \n",
        " for i in range(m):\n",
        "    z = np.dot(w,X[i]) + b\n",
        "    f = sigmoid(z)\n",
        "    \n",
        "    for j in range(n):\n",
        "      dj_dw[j] += (f - y[i])*X[i,j]\n",
        "    \n",
        "    dj_db += (f - y[i] )\n",
        "    \n",
        " dj_db /= m\n",
        " dj_dw /= m\n",
        "\n",
        " return dj_db,dj_dw"
      ]
    },
    {
      "cell_type": "code",
      "execution_count": 18,
      "metadata": {
        "id": "WLmFL2yuIPUA"
      },
      "outputs": [
        {
          "name": "stdout",
          "output_type": "stream",
          "text": [
            "dj_db at test_w: -0.4915254236924827\n",
            "dj_dw at test_w: [-0.008601361012465367, -0.09147300847306211]\n",
            "\u001b[92mTests passed!\n"
          ]
        }
      ],
      "source": [
        "test_w = np.array([ 0.2, -0.5])\n",
        "test_b = -24\n",
        "dj_db, dj_dw  = compute_gradient(X_train, y_train, test_w, test_b)\n",
        "\n",
        "print('dj_db at test_w:', dj_db)\n",
        "print('dj_dw at test_w:', dj_dw.tolist())\n",
        "\n",
        "# test\n",
        "compute_gradient_test(compute_gradient)"
      ]
    },
    {
      "cell_type": "code",
      "execution_count": 19,
      "metadata": {
        "id": "TGfUArz09TMl"
      },
      "outputs": [],
      "source": [
        "#compute regularised gradient\n",
        "def compute_gradient_reg(X, y, w, b, lambda_=1):\n",
        "#write your code\n",
        "  n = X.shape[1]\n",
        "  m = X.shape[0]\n",
        "  dj_db, dj_dw = compute_gradient(X,y,w,b)\n",
        "  for i in range(n):\n",
        "    dj_dw[i] += (lambda_/m)*w[i]\n",
        "\n",
        "  return dj_db,dj_dw"
      ]
    },
    {
      "cell_type": "code",
      "execution_count": 20,
      "metadata": {
        "cellView": "form",
        "id": "KNRCWIc8G2cp"
      },
      "outputs": [],
      "source": [
        "# @title DO NOT EDIT THIS CODE\n",
        "def compute_gradient_reg_test(target):\n",
        "    np.random.seed(1)\n",
        "    w = np.random.randn(5)\n",
        "    b = 0.2\n",
        "    X = np.random.randn(7, 5)\n",
        "    y = np.array([0, 1, 1, 0, 1, 1, 0])\n",
        "    lambda_ = 0.1\n",
        "    expected1 = (-0.1506447567869257, np.array([ 0.19530838, -0.00632206,  0.19687367,  0.15741161,  0.02791437]))\n",
        "    dj_db, dj_dw = target(X, y, w, b, lambda_)\n",
        "\n",
        "    assert np.isclose(dj_db, expected1[0]), f\"Wrong dj_db. Expected: {expected1[0]} got: {dj_db}\"\n",
        "    assert np.allclose(dj_dw, expected1[1]), f\"Wrong dj_dw. Expected: {expected1[1]} got: {dj_dw}\"\n",
        "\n",
        "\n",
        "    w = np.random.randn(7)\n",
        "    b = 0\n",
        "    X = np.random.randn(7, 7)\n",
        "    y = np.array([1, 0, 0, 0, 1, 1, 0])\n",
        "    lambda_ = 0\n",
        "    expected2 = (0.02660329857573818, np.array([ 0.23567643, -0.06921029, -0.19705212, -0.0002884 ,  0.06490588,\n",
        "        0.26948175,  0.10777992]))\n",
        "    dj_db, dj_dw = target(X, y, w, b, lambda_)\n",
        "    assert np.isclose(dj_db, expected2[0]), f\"Wrong dj_db. Expected: {expected2[0]} got: {dj_db}\"\n",
        "    assert np.allclose(dj_dw, expected2[1]), f\"Wrong dj_dw. Expected: {expected2[1]} got: {dj_dw}\"\n",
        "\n",
        "    print('\\033[92mTests passed!')"
      ]
    },
    {
      "cell_type": "code",
      "execution_count": 21,
      "metadata": {
        "id": "3_of_BHJ9hEc"
      },
      "outputs": [
        {
          "name": "stdout",
          "output_type": "stream",
          "text": [
            "dj_db: 0.07138288792343662\n",
            "\u001b[92mTests passed!\n"
          ]
        }
      ],
      "source": [
        "X_mapped = map_feature(X_train[:, 0], X_train[:, 1])\n",
        "np.random.seed(1)\n",
        "initial_w  = np.random.rand(X_mapped.shape[1]) - 0.5\n",
        "initial_b = 0.5\n",
        "\n",
        "lambda_ = 0.5\n",
        "dj_db, dj_dw = compute_gradient_reg(X_mapped, y_train, initial_w, initial_b, lambda_)\n",
        "\n",
        "print(f\"dj_db: {dj_db}\" )\n",
        "#test\n",
        "compute_gradient_reg_test(compute_gradient_reg)"
      ]
    },
    {
      "cell_type": "code",
      "execution_count": 47,
      "metadata": {
        "id": "c5y3Nb9Z_SC4"
      },
      "outputs": [],
      "source": [
        "np.random.seed(1)\n",
        "initial_w = np.random.rand(X_mapped.shape[1])-0.5\n",
        "initial_b = 1.\n",
        "lambda_ = 0.01\n",
        "iterations = 4000\n",
        "alpha = 0.3\n",
        "def gradient_descent(X_mapped, y_train, initial_w, initial_b,\n",
        "                                    compute_cost_reg, compute_gradient_reg,\n",
        "                                    alpha, iterations, lambda_):\n",
        "  J_history = []\n",
        "#write your code\n",
        "  b = initial_b\n",
        "  w = initial_w\n",
        "  for i in range(iterations):\n",
        "    dj_db, dj_dw = compute_gradient_reg(X_mapped,y_train, w, b, lambda_)\n",
        "\n",
        "    b = b - alpha*dj_db\n",
        "    w = w - alpha*(dj_dw)\n",
        "    J_history.append(compute_cost_reg(X_mapped, y_train,w,b, lambda_))\n",
        "\n",
        "  return w, b, J_history, _\n",
        "\n",
        "w,b, J_history,_ = gradient_descent(X_mapped, y_train, initial_w, initial_b,\n",
        "                                    compute_cost_reg, compute_gradient_reg,\n",
        "                                    alpha, iterations, lambda_)\n"
      ]
    },
    {
      "cell_type": "code",
      "execution_count": 48,
      "metadata": {
        "id": "cqSOrJsTAf9p"
      },
      "outputs": [],
      "source": [
        "#plot decision boundary\n",
        "def plot_decision_boundary(w,b,X,y):\n",
        "\n",
        "    plot_data(X[:, 0:2], y)\n",
        "\n",
        "    if X.shape[1] <= 2:\n",
        "        plot_x = np.array([min(X[:, 0]), max(X[:, 0])])\n",
        "        plot_y = (-1. / w[1]) * (w[0] * plot_x + b)\n",
        "\n",
        "        plt.plot(plot_x, plot_y, c=\"b\")\n",
        "\n",
        "    else:\n",
        "        u = np.linspace(-1, 1.5, 50)\n",
        "        v = np.linspace(-1, 1.5, 50)\n",
        "\n",
        "        z = np.zeros((len(u), len(v)))\n",
        "\n",
        "\n",
        "        for i in range(len(u)):\n",
        "            for j in range(len(v)):\n",
        "                z[i,j] = sigmoid(np.dot(map_feature(u[i], v[j]), w) + b)\n",
        "\n",
        "\n",
        "        z = z.T\n",
        "\n",
        "    \n",
        "        plt.contour(u,v,z, levels = [0.5], colors=\"g\")"
      ]
    },
    {
      "cell_type": "code",
      "execution_count": 49,
      "metadata": {
        "id": "etir_m_AAyYC"
      },
      "outputs": [
        {
          "name": "stderr",
          "output_type": "stream",
          "text": [
            "C:\\Users\\shree\\AppData\\Local\\Temp\\ipykernel_186636\\2658880499.py:21: DeprecationWarning: Conversion of an array with ndim > 0 to a scalar is deprecated, and will error in future. Ensure you extract a single element from your array before performing this operation. (Deprecated NumPy 1.25.)\n",
            "  z[i,j] = sigmoid(np.dot(map_feature(u[i], v[j]), w) + b)\n"
          ]
        },
        {
          "data": {
            "image/png": "[encoded data removed]",
            "text/plain": [
              "<Figure size 640x480 with 1 Axes>"
            ]
          },
          "metadata": {},
          "output_type": "display_data"
        }
      ],
      "source": [
        "plot_decision_boundary(w, b, X_mapped, y_train)"
      ]
    },
    {
      "cell_type": "code",
      "execution_count": 50,
      "metadata": {
        "id": "MD2Dup4OA1ew"
      },
      "outputs": [],
      "source": [
        "#predict your training model\n",
        "def predict(X, w, b):\n",
        "  m,n=X.shape\n",
        "  p=np.zeros(m)\n",
        "  #write your code\n",
        "  for i in range(m):\n",
        "    f  = (np.dot(w,X[i]) + b)\n",
        "    print(f)\n",
        "    if f >= 0.5:\n",
        "      p[i] = 1\n",
        "    else:\n",
        "      p[i] = 0\n",
        "\n",
        "\n",
        "  return p"
      ]
    },
    {
      "cell_type": "code",
      "execution_count": 51,
      "metadata": {
        "id": "TAhIPFIsBTjk"
      },
      "outputs": [
        {
          "name": "stdout",
          "output_type": "stream",
          "text": [
            "2.0235549776019797\n",
            "2.4202392976961757\n",
            "2.279758790777854\n",
            "2.5198413016248513\n",
            "1.4049171672360643\n",
            "1.0283303595219624\n",
            "1.565204236550288\n",
            "0.9427733114579198\n",
            "0.9897251345349942\n",
            "0.3680062690518513\n",
            "0.31323385736207365\n",
            "0.5210921109210283\n",
            "1.5473815341860968\n",
            "0.6092867778818607\n",
            "1.1609518575931852\n",
            "2.045170852681964\n",
            "3.079284707771105\n",
            "0.731766516702371\n",
            "2.272166639894432\n",
            "1.2583947143338126\n",
            "-0.09056759177638307\n",
            "-0.08740631494078999\n",
            "-0.6523715178161407\n",
            "-0.5967915408425508\n",
            "0.4561672103844172\n",
            "-0.39958566038642696\n",
            "0.5470648576575474\n",
            "-0.4948710273876693\n",
            "3.283710095217788\n",
            "1.2337767610485302\n",
            "-1.7922109797861374\n",
            "1.133113103739293\n",
            "2.675022293696925\n",
            "3.071988955462958\n",
            "2.6495203801548644\n",
            "2.2216849923376536\n",
            "1.2356835335604317\n",
            "2.2616655668714474\n",
            "2.7794237816103733\n",
            "1.5384814854930147\n",
            "2.763209114522186\n",
            "2.664403090618344\n",
            "1.7885895229045294\n",
            "3.218403510780924\n",
            "2.014755493947973\n",
            "2.219802775961941\n",
            "-0.924643376817798\n",
            "2.986175290800248\n",
            "0.0010638330476426816\n",
            "0.7197710233583359\n",
            "2.9102741861118866\n",
            "3.825231672219606\n",
            "3.300185865237605\n",
            "3.4613156544481187\n",
            "3.21351066824168\n",
            "1.8966965798774158\n",
            "2.472312507632159\n",
            "1.3520468449228713\n",
            "-3.247548077683934\n",
            "0.001145006104504187\n",
            "1.805657360978452\n",
            "-2.3761534015357526\n",
            "-3.3969977397300095\n",
            "-0.8236171901779654\n",
            "-2.3939073048008437\n",
            "-5.3927780869440465\n",
            "-1.6564537673113664\n",
            "-4.9867267911421695\n",
            "-3.98920101776862\n",
            "-1.7140873418277627\n",
            "-2.787082358742433\n",
            "-2.1505758394188437\n",
            "-2.635930288403725\n",
            "-2.291218459403524\n",
            "-2.3658808854259865\n",
            "-0.15881530902106844\n",
            "1.5030793869270749\n",
            "0.13961230559208504\n",
            "-2.6483967360674177\n",
            "-3.116733557423851\n",
            "-0.29831042702105703\n",
            "-0.12372554006465109\n",
            "-1.7783950549634193\n",
            "-0.21894186374024827\n",
            "-5.030634219159937\n",
            "-2.1133025411703867\n",
            "-2.506606074839654\n",
            "-2.2019736287473615\n",
            "1.395245365668081\n",
            "-1.155168221876158\n",
            "-1.813276329386106\n",
            "0.06311731588169733\n",
            "0.7299340613120786\n",
            "-1.8333511775959437\n",
            "-2.8934892116281112\n",
            "-7.167765347212573\n",
            "-10.621595232807866\n",
            "-2.5386432087724105\n",
            "-8.561415703603839\n",
            "-6.624048489833827\n",
            "-2.6570973291523847\n",
            "-10.123306187410824\n",
            "-1.133380855398892\n",
            "-3.14209638307271\n",
            "0.5320315999692342\n",
            "-1.5485948581464122\n",
            "-0.0038883866133367917\n",
            "1.8624647007471624\n",
            "-1.3116667004389901\n",
            "-3.15220607636687\n",
            "-4.110396912970025\n",
            "-3.3559517002900785\n",
            "-4.383880101922073\n",
            "-1.9494430161983\n",
            "0.3720520558360878\n",
            "-3.553293324954274\n",
            "-3.6750326052024214\n",
            "2.0644163538304614\n",
            "[1. 1. 1. 1. 1. 1. 1. 1. 1. 0. 0. 1. 1. 1. 1. 1. 1. 1. 1. 1. 0. 0. 0. 0.\n",
            " 0. 0. 1. 0. 1. 1. 0. 1. 1. 1. 1. 1. 1. 1. 1. 1. 1. 1. 1. 1. 1. 1. 0. 1.\n",
            " 0. 1. 1. 1. 1. 1. 1. 1. 1. 1. 0. 0. 1. 0. 0. 0. 0. 0. 0. 0. 0. 0. 0. 0.\n",
            " 0. 0. 0. 0. 1. 0. 0. 0. 0. 0. 0. 0. 0. 0. 0. 0. 1. 0. 0. 0. 1. 0. 0. 0.\n",
            " 0. 0. 0. 0. 0. 0. 0. 0. 1. 0. 0. 1. 0. 0. 0. 0. 0. 0. 0. 0. 0. 1.]\n",
            "Accuracy of training model: 83.898305\n"
          ]
        }
      ],
      "source": [
        "p = predict(X_mapped, w, b)\n",
        "print(p)\n",
        "\n",
        "print('Accuracy of training model: %f'%(np.mean(p == y_train) * 100))"
      ]
    }
  ],
  "metadata": {
    "colab": {
      "provenance": []
    },
    "kernelspec": {
      "display_name": "Python 3",
      "name": "python3"
    },
    "language_info": {
      "codemirror_mode": {
        "name": "ipython",
        "version": 3
      },
      "file_extension": ".py",
      "mimetype": "text/x-python",
      "name": "python",
      "nbconvert_exporter": "python",
      "pygments_lexer": "ipython3",
      "version": "3.11.4"
    }
  },
  "nbformat": 4,
  "nbformat_minor": 0
}
